{
 "cells": [
  {
   "cell_type": "code",
   "execution_count": 1,
   "metadata": {},
   "outputs": [],
   "source": [
    "import csv "
   ]
  },
  {
   "cell_type": "code",
   "execution_count": 3,
   "metadata": {},
   "outputs": [],
   "source": [
    "color_codes = csv.DictReader(open('Color_Codes.csv'))"
   ]
  },
  {
   "cell_type": "code",
   "execution_count": 4,
   "metadata": {},
   "outputs": [
    {
     "data": {
      "text/plain": [
       "<csv.DictReader at 0x7f7823fd9bb0>"
      ]
     },
     "execution_count": 4,
     "metadata": {},
     "output_type": "execute_result"
    }
   ],
   "source": [
    "color_codes"
   ]
  },
  {
   "cell_type": "code",
   "execution_count": 5,
   "metadata": {},
   "outputs": [],
   "source": [
    "color_codes = next(color_codes)"
   ]
  },
  {
   "cell_type": "code",
   "execution_count": 6,
   "metadata": {},
   "outputs": [
    {
     "data": {
      "text/plain": [
       "{'Black': '0',\n",
       " 'silver': '20',\n",
       " 'pearl white': '19',\n",
       " 'black': '15',\n",
       " 'white': '21',\n",
       " 'blue': '16',\n",
       " 'gray': '18',\n",
       " 'Pearl White': '11',\n",
       " 'Gray': '4',\n",
       " 'Silver': '13',\n",
       " 'Purple': '12',\n",
       " 'Grey': '6',\n",
       " 'White': '14',\n",
       " 'Green': '5',\n",
       " 'Light Green': '9',\n",
       " 'Light Blue': '7',\n",
       " 'Blue': '1',\n",
       " 'Dark Blue': '2',\n",
       " 'Gold': '3',\n",
       " 'Light Gold': '8',\n",
       " 'Pearl Maroon': '10',\n",
       " 'dark grey': '17'}"
      ]
     },
     "execution_count": 6,
     "metadata": {},
     "output_type": "execute_result"
    }
   ],
   "source": [
    "color_codes"
   ]
  },
  {
   "cell_type": "code",
   "execution_count": null,
   "metadata": {},
   "outputs": [],
   "source": []
  }
 ],
 "metadata": {
  "kernelspec": {
   "display_name": "Python 3",
   "language": "python",
   "name": "python3"
  },
  "language_info": {
   "codemirror_mode": {
    "name": "ipython",
    "version": 3
   },
   "file_extension": ".py",
   "mimetype": "text/x-python",
   "name": "python",
   "nbconvert_exporter": "python",
   "pygments_lexer": "ipython3",
   "version": "3.8.5"
  }
 },
 "nbformat": 4,
 "nbformat_minor": 4
}
